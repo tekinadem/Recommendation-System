{
 "cells": [
  {
   "cell_type": "markdown",
   "metadata": {
    "id": "g0YmcZBhaquo"
   },
   "source": [
    "Importing Libraries"
   ]
  },
  {
   "cell_type": "code",
   "execution_count": 1,
   "metadata": {
    "id": "-eNHTdrRqri7"
   },
   "outputs": [],
   "source": [
    "import pandas as pd\n",
    "import numpy as np\n",
    "from zipfile import ZipFile\n",
    "import tensorflow as tf\n",
    "from tensorflow import keras\n",
    "from tensorflow.keras import layers\n",
    "from pathlib import Path\n",
    "import matplotlib.pyplot as plt"
   ]
  },
  {
   "cell_type": "markdown",
   "metadata": {
    "id": "JID6DccVayeW"
   },
   "source": [
    "Load the Data\n",
    "- These files contain 1,000,209 anonymous ratings of approximately 3,900 movies made by 6,040 MovieLens users who joined MovieLens in 2000."
   ]
  },
  {
   "cell_type": "code",
   "execution_count": 2,
   "metadata": {
    "id": "pF7QJd1oq7nd"
   },
   "outputs": [],
   "source": [
    "movielens_data_file_url = (\n",
    "    \"http://files.grouplens.org/datasets/movielens/ml-1m.zip\"\n",
    ")\n",
    "\n",
    "movielens_zipped_file = keras.utils.get_file(\n",
    "    \"ml-1m.zip\", movielens_data_file_url, extract=False\n",
    ")\n",
    "\n",
    "keras_datasets_path = Path(movielens_zipped_file).parents[0]\n",
    "movielens_dir = keras_datasets_path / \"ml-1m\"\n",
    "\n",
    "# Only extract the data the first time the script is run.\n",
    "if not movielens_dir.exists():\n",
    "    with ZipFile(movielens_zipped_file, \"r\") as zip:\n",
    "        # Extract files\n",
    "        print(\"Extracting all the files now...\")\n",
    "        zip.extractall(path=keras_datasets_path)\n",
    "        print(\"Done!\")\n",
    "        \n",
    "ratings_file = movielens_dir / \"ratings.dat\"\n",
    "movies_file = movielens_dir / \"movies.dat\"\n",
    "\n",
    "df = pd.read_csv(ratings_file, names=[\"userId\", \"movieId\", \"rating\", \"timestamp\"], sep='\\::', encoding='latin-1', engine='python')\n",
    "movies = pd.read_csv(movies_file, names=[\"movieId\", \"title\", \"genres\"], sep='\\::', encoding='latin-1', engine='python')"
   ]
  },
  {
   "cell_type": "code",
   "execution_count": 3,
   "metadata": {
    "colab": {
     "base_uri": "https://localhost:8080/",
     "height": 206
    },
    "id": "3OwJWfXxQUpQ",
    "outputId": "6d6dbd3e-ca52-42a9-d219-75c71d104e33"
   },
   "outputs": [
    {
     "data": {
      "text/html": [
       "\n",
       "  <div id=\"df-a5a45188-bf5e-4d4d-af2a-bed81e627ea3\">\n",
       "    <div class=\"colab-df-container\">\n",
       "      <div>\n",
       "<style scoped>\n",
       "    .dataframe tbody tr th:only-of-type {\n",
       "        vertical-align: middle;\n",
       "    }\n",
       "\n",
       "    .dataframe tbody tr th {\n",
       "        vertical-align: top;\n",
       "    }\n",
       "\n",
       "    .dataframe thead th {\n",
       "        text-align: right;\n",
       "    }\n",
       "</style>\n",
       "<table border=\"1\" class=\"dataframe\">\n",
       "  <thead>\n",
       "    <tr style=\"text-align: right;\">\n",
       "      <th></th>\n",
       "      <th>userId</th>\n",
       "      <th>movieId</th>\n",
       "      <th>rating</th>\n",
       "      <th>timestamp</th>\n",
       "    </tr>\n",
       "  </thead>\n",
       "  <tbody>\n",
       "    <tr>\n",
       "      <th>180319</th>\n",
       "      <td>1128</td>\n",
       "      <td>1357</td>\n",
       "      <td>4</td>\n",
       "      <td>974904611</td>\n",
       "    </tr>\n",
       "    <tr>\n",
       "      <th>894149</th>\n",
       "      <td>5397</td>\n",
       "      <td>543</td>\n",
       "      <td>5</td>\n",
       "      <td>963524334</td>\n",
       "    </tr>\n",
       "    <tr>\n",
       "      <th>250241</th>\n",
       "      <td>1508</td>\n",
       "      <td>2273</td>\n",
       "      <td>2</td>\n",
       "      <td>974748504</td>\n",
       "    </tr>\n",
       "    <tr>\n",
       "      <th>453033</th>\n",
       "      <td>2790</td>\n",
       "      <td>3471</td>\n",
       "      <td>4</td>\n",
       "      <td>972941717</td>\n",
       "    </tr>\n",
       "    <tr>\n",
       "      <th>724496</th>\n",
       "      <td>4339</td>\n",
       "      <td>1049</td>\n",
       "      <td>3</td>\n",
       "      <td>965232819</td>\n",
       "    </tr>\n",
       "  </tbody>\n",
       "</table>\n",
       "</div>\n",
       "      <button class=\"colab-df-convert\" onclick=\"convertToInteractive('df-a5a45188-bf5e-4d4d-af2a-bed81e627ea3')\"\n",
       "              title=\"Convert this dataframe to an interactive table.\"\n",
       "              style=\"display:none;\">\n",
       "        \n",
       "  <svg xmlns=\"http://www.w3.org/2000/svg\" height=\"24px\"viewBox=\"0 0 24 24\"\n",
       "       width=\"24px\">\n",
       "    <path d=\"M0 0h24v24H0V0z\" fill=\"none\"/>\n",
       "    <path d=\"M18.56 5.44l.94 2.06.94-2.06 2.06-.94-2.06-.94-.94-2.06-.94 2.06-2.06.94zm-11 1L8.5 8.5l.94-2.06 2.06-.94-2.06-.94L8.5 2.5l-.94 2.06-2.06.94zm10 10l.94 2.06.94-2.06 2.06-.94-2.06-.94-.94-2.06-.94 2.06-2.06.94z\"/><path d=\"M17.41 7.96l-1.37-1.37c-.4-.4-.92-.59-1.43-.59-.52 0-1.04.2-1.43.59L10.3 9.45l-7.72 7.72c-.78.78-.78 2.05 0 2.83L4 21.41c.39.39.9.59 1.41.59.51 0 1.02-.2 1.41-.59l7.78-7.78 2.81-2.81c.8-.78.8-2.07 0-2.86zM5.41 20L4 18.59l7.72-7.72 1.47 1.35L5.41 20z\"/>\n",
       "  </svg>\n",
       "      </button>\n",
       "      \n",
       "  <style>\n",
       "    .colab-df-container {\n",
       "      display:flex;\n",
       "      flex-wrap:wrap;\n",
       "      gap: 12px;\n",
       "    }\n",
       "\n",
       "    .colab-df-convert {\n",
       "      background-color: #E8F0FE;\n",
       "      border: none;\n",
       "      border-radius: 50%;\n",
       "      cursor: pointer;\n",
       "      display: none;\n",
       "      fill: #1967D2;\n",
       "      height: 32px;\n",
       "      padding: 0 0 0 0;\n",
       "      width: 32px;\n",
       "    }\n",
       "\n",
       "    .colab-df-convert:hover {\n",
       "      background-color: #E2EBFA;\n",
       "      box-shadow: 0px 1px 2px rgba(60, 64, 67, 0.3), 0px 1px 3px 1px rgba(60, 64, 67, 0.15);\n",
       "      fill: #174EA6;\n",
       "    }\n",
       "\n",
       "    [theme=dark] .colab-df-convert {\n",
       "      background-color: #3B4455;\n",
       "      fill: #D2E3FC;\n",
       "    }\n",
       "\n",
       "    [theme=dark] .colab-df-convert:hover {\n",
       "      background-color: #434B5C;\n",
       "      box-shadow: 0px 1px 3px 1px rgba(0, 0, 0, 0.15);\n",
       "      filter: drop-shadow(0px 1px 2px rgba(0, 0, 0, 0.3));\n",
       "      fill: #FFFFFF;\n",
       "    }\n",
       "  </style>\n",
       "\n",
       "      <script>\n",
       "        const buttonEl =\n",
       "          document.querySelector('#df-a5a45188-bf5e-4d4d-af2a-bed81e627ea3 button.colab-df-convert');\n",
       "        buttonEl.style.display =\n",
       "          google.colab.kernel.accessAllowed ? 'block' : 'none';\n",
       "\n",
       "        async function convertToInteractive(key) {\n",
       "          const element = document.querySelector('#df-a5a45188-bf5e-4d4d-af2a-bed81e627ea3');\n",
       "          const dataTable =\n",
       "            await google.colab.kernel.invokeFunction('convertToInteractive',\n",
       "                                                     [key], {});\n",
       "          if (!dataTable) return;\n",
       "\n",
       "          const docLinkHtml = 'Like what you see? Visit the ' +\n",
       "            '<a target=\"_blank\" href=https://colab.research.google.com/notebooks/data_table.ipynb>data table notebook</a>'\n",
       "            + ' to learn more about interactive tables.';\n",
       "          element.innerHTML = '';\n",
       "          dataTable['output_type'] = 'display_data';\n",
       "          await google.colab.output.renderOutput(dataTable, element);\n",
       "          const docLink = document.createElement('div');\n",
       "          docLink.innerHTML = docLinkHtml;\n",
       "          element.appendChild(docLink);\n",
       "        }\n",
       "      </script>\n",
       "    </div>\n",
       "  </div>\n",
       "  "
      ],
      "text/plain": [
       "        userId  movieId  rating  timestamp\n",
       "180319    1128     1357       4  974904611\n",
       "894149    5397      543       5  963524334\n",
       "250241    1508     2273       2  974748504\n",
       "453033    2790     3471       4  972941717\n",
       "724496    4339     1049       3  965232819"
      ]
     },
     "execution_count": 3,
     "metadata": {},
     "output_type": "execute_result"
    }
   ],
   "source": [
    "df.sample(5)"
   ]
  },
  {
   "cell_type": "code",
   "execution_count": 4,
   "metadata": {
    "colab": {
     "base_uri": "https://localhost:8080/",
     "height": 206
    },
    "id": "aTZYGoPymAlP",
    "outputId": "b87955b3-cf94-4f08-fef9-604f350d67ea"
   },
   "outputs": [
    {
     "data": {
      "text/html": [
       "\n",
       "  <div id=\"df-e97cf50f-3554-496e-9dab-a76eaed71b93\">\n",
       "    <div class=\"colab-df-container\">\n",
       "      <div>\n",
       "<style scoped>\n",
       "    .dataframe tbody tr th:only-of-type {\n",
       "        vertical-align: middle;\n",
       "    }\n",
       "\n",
       "    .dataframe tbody tr th {\n",
       "        vertical-align: top;\n",
       "    }\n",
       "\n",
       "    .dataframe thead th {\n",
       "        text-align: right;\n",
       "    }\n",
       "</style>\n",
       "<table border=\"1\" class=\"dataframe\">\n",
       "  <thead>\n",
       "    <tr style=\"text-align: right;\">\n",
       "      <th></th>\n",
       "      <th>movieId</th>\n",
       "      <th>title</th>\n",
       "      <th>genres</th>\n",
       "    </tr>\n",
       "  </thead>\n",
       "  <tbody>\n",
       "    <tr>\n",
       "      <th>3000</th>\n",
       "      <td>3069</td>\n",
       "      <td>Effect of Gamma Rays on Man-in-the-Moon Marigo...</td>\n",
       "      <td>Drama</td>\n",
       "    </tr>\n",
       "    <tr>\n",
       "      <th>614</th>\n",
       "      <td>618</td>\n",
       "      <td>Two Much (1996)</td>\n",
       "      <td>Comedy|Romance</td>\n",
       "    </tr>\n",
       "    <tr>\n",
       "      <th>3043</th>\n",
       "      <td>3112</td>\n",
       "      <td>'Night Mother (1986)</td>\n",
       "      <td>Drama</td>\n",
       "    </tr>\n",
       "    <tr>\n",
       "      <th>3127</th>\n",
       "      <td>3196</td>\n",
       "      <td>Stalag 17 (1953)</td>\n",
       "      <td>Drama|War</td>\n",
       "    </tr>\n",
       "    <tr>\n",
       "      <th>3151</th>\n",
       "      <td>3220</td>\n",
       "      <td>Night Tide (1961)</td>\n",
       "      <td>Drama</td>\n",
       "    </tr>\n",
       "  </tbody>\n",
       "</table>\n",
       "</div>\n",
       "      <button class=\"colab-df-convert\" onclick=\"convertToInteractive('df-e97cf50f-3554-496e-9dab-a76eaed71b93')\"\n",
       "              title=\"Convert this dataframe to an interactive table.\"\n",
       "              style=\"display:none;\">\n",
       "        \n",
       "  <svg xmlns=\"http://www.w3.org/2000/svg\" height=\"24px\"viewBox=\"0 0 24 24\"\n",
       "       width=\"24px\">\n",
       "    <path d=\"M0 0h24v24H0V0z\" fill=\"none\"/>\n",
       "    <path d=\"M18.56 5.44l.94 2.06.94-2.06 2.06-.94-2.06-.94-.94-2.06-.94 2.06-2.06.94zm-11 1L8.5 8.5l.94-2.06 2.06-.94-2.06-.94L8.5 2.5l-.94 2.06-2.06.94zm10 10l.94 2.06.94-2.06 2.06-.94-2.06-.94-.94-2.06-.94 2.06-2.06.94z\"/><path d=\"M17.41 7.96l-1.37-1.37c-.4-.4-.92-.59-1.43-.59-.52 0-1.04.2-1.43.59L10.3 9.45l-7.72 7.72c-.78.78-.78 2.05 0 2.83L4 21.41c.39.39.9.59 1.41.59.51 0 1.02-.2 1.41-.59l7.78-7.78 2.81-2.81c.8-.78.8-2.07 0-2.86zM5.41 20L4 18.59l7.72-7.72 1.47 1.35L5.41 20z\"/>\n",
       "  </svg>\n",
       "      </button>\n",
       "      \n",
       "  <style>\n",
       "    .colab-df-container {\n",
       "      display:flex;\n",
       "      flex-wrap:wrap;\n",
       "      gap: 12px;\n",
       "    }\n",
       "\n",
       "    .colab-df-convert {\n",
       "      background-color: #E8F0FE;\n",
       "      border: none;\n",
       "      border-radius: 50%;\n",
       "      cursor: pointer;\n",
       "      display: none;\n",
       "      fill: #1967D2;\n",
       "      height: 32px;\n",
       "      padding: 0 0 0 0;\n",
       "      width: 32px;\n",
       "    }\n",
       "\n",
       "    .colab-df-convert:hover {\n",
       "      background-color: #E2EBFA;\n",
       "      box-shadow: 0px 1px 2px rgba(60, 64, 67, 0.3), 0px 1px 3px 1px rgba(60, 64, 67, 0.15);\n",
       "      fill: #174EA6;\n",
       "    }\n",
       "\n",
       "    [theme=dark] .colab-df-convert {\n",
       "      background-color: #3B4455;\n",
       "      fill: #D2E3FC;\n",
       "    }\n",
       "\n",
       "    [theme=dark] .colab-df-convert:hover {\n",
       "      background-color: #434B5C;\n",
       "      box-shadow: 0px 1px 3px 1px rgba(0, 0, 0, 0.15);\n",
       "      filter: drop-shadow(0px 1px 2px rgba(0, 0, 0, 0.3));\n",
       "      fill: #FFFFFF;\n",
       "    }\n",
       "  </style>\n",
       "\n",
       "      <script>\n",
       "        const buttonEl =\n",
       "          document.querySelector('#df-e97cf50f-3554-496e-9dab-a76eaed71b93 button.colab-df-convert');\n",
       "        buttonEl.style.display =\n",
       "          google.colab.kernel.accessAllowed ? 'block' : 'none';\n",
       "\n",
       "        async function convertToInteractive(key) {\n",
       "          const element = document.querySelector('#df-e97cf50f-3554-496e-9dab-a76eaed71b93');\n",
       "          const dataTable =\n",
       "            await google.colab.kernel.invokeFunction('convertToInteractive',\n",
       "                                                     [key], {});\n",
       "          if (!dataTable) return;\n",
       "\n",
       "          const docLinkHtml = 'Like what you see? Visit the ' +\n",
       "            '<a target=\"_blank\" href=https://colab.research.google.com/notebooks/data_table.ipynb>data table notebook</a>'\n",
       "            + ' to learn more about interactive tables.';\n",
       "          element.innerHTML = '';\n",
       "          dataTable['output_type'] = 'display_data';\n",
       "          await google.colab.output.renderOutput(dataTable, element);\n",
       "          const docLink = document.createElement('div');\n",
       "          docLink.innerHTML = docLinkHtml;\n",
       "          element.appendChild(docLink);\n",
       "        }\n",
       "      </script>\n",
       "    </div>\n",
       "  </div>\n",
       "  "
      ],
      "text/plain": [
       "      movieId                                              title  \\\n",
       "3000     3069  Effect of Gamma Rays on Man-in-the-Moon Marigo...   \n",
       "614       618                                    Two Much (1996)   \n",
       "3043     3112                               'Night Mother (1986)   \n",
       "3127     3196                                   Stalag 17 (1953)   \n",
       "3151     3220                                  Night Tide (1961)   \n",
       "\n",
       "              genres  \n",
       "3000           Drama  \n",
       "614   Comedy|Romance  \n",
       "3043           Drama  \n",
       "3127       Drama|War  \n",
       "3151           Drama  "
      ]
     },
     "execution_count": 4,
     "metadata": {},
     "output_type": "execute_result"
    }
   ],
   "source": [
    "movies.sample(5)"
   ]
  },
  {
   "cell_type": "markdown",
   "metadata": {
    "id": "gzRmz1SrcI3n"
   },
   "source": [
    "Preparing the Data"
   ]
  },
  {
   "cell_type": "code",
   "execution_count": 5,
   "metadata": {
    "colab": {
     "base_uri": "https://localhost:8080/"
    },
    "id": "29HBL4xTrC-R",
    "outputId": "1a9c0106-e8b5-44a8-b4fb-96a1cd1bf897"
   },
   "outputs": [
    {
     "name": "stdout",
     "output_type": "stream",
     "text": [
      "Number of users: 6040, Number of Movies: 3706, Min Rating: 1.0, Max Rating: 5.0\n"
     ]
    }
   ],
   "source": [
    "# Map user ID to a \"user vector\" via an embedding matrix\n",
    "user_ids = df[\"userId\"].unique().tolist()\n",
    "user2user_encoded = {x: i for i, x in enumerate(user_ids)}\n",
    "\n",
    "# Map movies ID to a \"movies vector\" via an embedding matrix\n",
    "movie_ids = df[\"movieId\"].unique().tolist()\n",
    "movie2movie_encoded = {x: i for i, x in enumerate(movie_ids)}\n",
    "\n",
    "df[\"user\"] = df[\"userId\"].map(user2user_encoded)\n",
    "df[\"movie\"] = df[\"movieId\"].map(movie2movie_encoded)\n",
    "\n",
    "num_users = len(user2user_encoded)\n",
    "num_movies = len(movie2movie_encoded)\n",
    "df['rating'] = df['rating'].values.astype(np.float32)\n",
    "\n",
    "# min and max ratings will be used to normalize the ratings later\n",
    "min_rating = min(df[\"rating\"])\n",
    "max_rating = max(df[\"rating\"])\n",
    "\n",
    "print(f\"Number of users: {num_users}, Number of Movies: {num_movies}, Min Rating: {min_rating}, Max Rating: {max_rating}\")"
   ]
  },
  {
   "cell_type": "code",
   "execution_count": 6,
   "metadata": {
    "id": "SzURw7Fw7vTm"
   },
   "outputs": [],
   "source": [
    "# Normalizing the targets between 0 and 1. Makes it easy to train.\n",
    "df[\"rating\"] = df[\"rating\"].apply(lambda x: (x - min_rating) / (max_rating - min_rating))"
   ]
  },
  {
   "cell_type": "code",
   "execution_count": 7,
   "metadata": {
    "id": "xGtrNn3o6Kp9"
   },
   "outputs": [],
   "source": [
    "# Assuming training except for the last 5 ratings and validating the last 5 ratings\n",
    "dtrain = df.sort_values(['userId','timestamp'],ascending=True).groupby('userId').apply(lambda x:x.iloc[5:]).set_index(np.arange(970009))\n",
    "dtest = df.sort_values(['userId','timestamp'],ascending=True).groupby('userId').apply(lambda x:x.iloc[:5]).set_index(np.arange(30200))"
   ]
  },
  {
   "cell_type": "code",
   "execution_count": 8,
   "metadata": {
    "id": "M5seJA12rG_m"
   },
   "outputs": [],
   "source": [
    "x_train = dtrain[[\"user\", \"movie\"]].values\n",
    "x_val = dtest[[\"user\", \"movie\"]].values\n",
    "y_train = dtrain[\"rating\"].values\n",
    "y_val = dtest[\"rating\"].values"
   ]
  },
  {
   "cell_type": "markdown",
   "metadata": {
    "id": "0wdbAgopcq5o"
   },
   "source": [
    "Create the Model"
   ]
  },
  {
   "cell_type": "markdown",
   "metadata": {
    "id": "6QSQIvsNcw61"
   },
   "source": [
    "- We embed both users and movies in to 100-dimentional vectors. The model computes a match score between user and movie embeddings via a dot product, and adds a per-movie and per-user bias. The match score is scalled to the[0, 1] interval via a sigmoid (since our ratings are normalized to this range)."
   ]
  },
  {
   "cell_type": "code",
   "execution_count": 9,
   "metadata": {
    "id": "_vo0ckRtrKHF"
   },
   "outputs": [],
   "source": [
    "EMBEDDING_SIZE = 100\n",
    "\n",
    "class RecommenderNet(keras.Model):\n",
    "    def __init__(self, num_users, num_movies, embedding_size, **kwargs):\n",
    "        super(RecommenderNet, self).__init__(**kwargs)\n",
    "        self.num_users = num_users\n",
    "        self.num_movies = num_movies\n",
    "        self.embedding_size = embedding_size\n",
    "        self.user_embedding = layers.Embedding(\n",
    "            num_users,\n",
    "            embedding_size,\n",
    "            embeddings_initializer=\"he_normal\",\n",
    "            embeddings_regularizer=keras.regularizers.l2(1e-6),\n",
    "        )\n",
    "        self.user_bias = layers.Embedding(num_users, 1)\n",
    "        self.movie_embedding = layers.Embedding(\n",
    "            num_movies,\n",
    "            embedding_size,\n",
    "            embeddings_initializer=\"he_normal\",\n",
    "            embeddings_regularizer=keras.regularizers.l2(1e-6)\n",
    "        )\n",
    "        self.movie_bias = layers.Embedding(num_movies, 1)\n",
    "        \n",
    "    def call(self, inputs):\n",
    "        user_vector = self.user_embedding(inputs[:, 0])\n",
    "        user_bias = self.user_bias(inputs[:, 0])\n",
    "        movie_vector = self.movie_embedding(inputs[:, 1])\n",
    "        movie_bias = self.movie_bias(inputs[:, 1])\n",
    "        dot_user_movie = tf.tensordot(user_vector, movie_vector, 2)\n",
    "        # Add all the components (including bias)\n",
    "        x = dot_user_movie + user_bias + movie_bias\n",
    "        # The sigmoid activation forces the rating to be between 0 and 11\n",
    "        return tf.nn.sigmoid(x)\n",
    "    \n",
    "model = RecommenderNet(num_users, num_movies, EMBEDDING_SIZE)\n",
    "model.compile(\n",
    "    loss=tf.keras.losses.BinaryCrossentropy(), optimizer=keras.optimizers.Adam(learning_rate=0.0001),\n",
    "    metrics=[\"accuracy\", tf.keras.metrics.Recall(), tf.keras.metrics.Precision()]\n",
    ")"
   ]
  },
  {
   "cell_type": "markdown",
   "metadata": {
    "id": "ioDRZy4cdFSk"
   },
   "source": [
    "Train the Model"
   ]
  },
  {
   "cell_type": "code",
   "execution_count": 10,
   "metadata": {
    "colab": {
     "base_uri": "https://localhost:8080/"
    },
    "id": "Wq9inrvkrO6e",
    "outputId": "060ae642-c952-4937-8753-3b1c4452a267"
   },
   "outputs": [
    {
     "name": "stdout",
     "output_type": "stream",
     "text": [
      "Epoch 1/20\n",
      "15157/15157 [==============================] - 181s 12ms/step - loss: 0.6495 - accuracy: 0.2201 - recall: 0.9438 - precision: 0.9455 - val_loss: 0.6435 - val_accuracy: 0.2136 - val_recall: 0.9995 - val_precision: 0.9376\n",
      "Epoch 2/20\n",
      "15157/15157 [==============================] - 175s 12ms/step - loss: 0.6237 - accuracy: 0.2285 - recall: 0.9973 - precision: 0.9456 - val_loss: 0.6324 - val_accuracy: 0.2173 - val_recall: 0.9900 - val_precision: 0.9407\n",
      "Epoch 3/20\n",
      "15157/15157 [==============================] - 175s 12ms/step - loss: 0.6132 - accuracy: 0.2372 - recall: 0.9759 - precision: 0.9534 - val_loss: 0.6265 - val_accuracy: 0.2239 - val_recall: 0.9669 - val_precision: 0.9466\n",
      "Epoch 4/20\n",
      "15157/15157 [==============================] - 193s 13ms/step - loss: 0.6065 - accuracy: 0.2453 - recall: 0.9456 - precision: 0.9612 - val_loss: 0.6230 - val_accuracy: 0.2293 - val_recall: 0.9443 - val_precision: 0.9518\n",
      "Epoch 5/20\n",
      "15157/15157 [==============================] - 181s 12ms/step - loss: 0.6020 - accuracy: 0.2500 - recall: 0.9206 - precision: 0.9660 - val_loss: 0.6216 - val_accuracy: 0.2330 - val_recall: 0.9278 - val_precision: 0.9556\n",
      "Epoch 6/20\n",
      "15157/15157 [==============================] - 176s 12ms/step - loss: 0.5989 - accuracy: 0.2527 - recall: 0.9021 - precision: 0.9691 - val_loss: 0.6204 - val_accuracy: 0.2352 - val_recall: 0.9144 - val_precision: 0.9579\n",
      "Epoch 7/20\n",
      "15157/15157 [==============================] - 177s 12ms/step - loss: 0.5967 - accuracy: 0.2544 - recall: 0.8885 - precision: 0.9712 - val_loss: 0.6196 - val_accuracy: 0.2375 - val_recall: 0.9037 - val_precision: 0.9604\n",
      "Epoch 8/20\n",
      "15157/15157 [==============================] - 172s 11ms/step - loss: 0.5951 - accuracy: 0.2555 - recall: 0.8791 - precision: 0.9726 - val_loss: 0.6193 - val_accuracy: 0.2385 - val_recall: 0.8966 - val_precision: 0.9615\n",
      "Epoch 9/20\n",
      "15157/15157 [==============================] - 170s 11ms/step - loss: 0.5938 - accuracy: 0.2563 - recall: 0.8715 - precision: 0.9736 - val_loss: 0.6185 - val_accuracy: 0.2396 - val_recall: 0.8891 - val_precision: 0.9630\n",
      "Epoch 10/20\n",
      "15157/15157 [==============================] - 199s 13ms/step - loss: 0.5928 - accuracy: 0.2568 - recall: 0.8659 - precision: 0.9744 - val_loss: 0.6180 - val_accuracy: 0.2403 - val_recall: 0.8802 - val_precision: 0.9635\n",
      "Epoch 11/20\n",
      "15157/15157 [==============================] - 175s 12ms/step - loss: 0.5920 - accuracy: 0.2573 - recall: 0.8615 - precision: 0.9751 - val_loss: 0.6174 - val_accuracy: 0.2414 - val_recall: 0.8770 - val_precision: 0.9647\n",
      "Epoch 12/20\n",
      "15157/15157 [==============================] - 174s 11ms/step - loss: 0.5914 - accuracy: 0.2577 - recall: 0.8580 - precision: 0.9757 - val_loss: 0.6170 - val_accuracy: 0.2420 - val_recall: 0.8714 - val_precision: 0.9655\n",
      "Epoch 13/20\n",
      "15157/15157 [==============================] - 174s 11ms/step - loss: 0.5909 - accuracy: 0.2579 - recall: 0.8553 - precision: 0.9760 - val_loss: 0.6171 - val_accuracy: 0.2424 - val_recall: 0.8713 - val_precision: 0.9659\n",
      "Epoch 14/20\n",
      "15157/15157 [==============================] - 173s 11ms/step - loss: 0.5904 - accuracy: 0.2581 - recall: 0.8531 - precision: 0.9763 - val_loss: 0.6171 - val_accuracy: 0.2424 - val_recall: 0.8708 - val_precision: 0.9661\n",
      "Epoch 15/20\n",
      "15157/15157 [==============================] - 171s 11ms/step - loss: 0.5900 - accuracy: 0.2584 - recall: 0.8510 - precision: 0.9766 - val_loss: 0.6170 - val_accuracy: 0.2428 - val_recall: 0.8690 - val_precision: 0.9664\n",
      "Epoch 16/20\n",
      "15157/15157 [==============================] - 194s 13ms/step - loss: 0.5897 - accuracy: 0.2584 - recall: 0.8494 - precision: 0.9767 - val_loss: 0.6168 - val_accuracy: 0.2433 - val_recall: 0.8642 - val_precision: 0.9669\n",
      "Epoch 17/20\n",
      "15157/15157 [==============================] - 183s 12ms/step - loss: 0.5895 - accuracy: 0.2586 - recall: 0.8481 - precision: 0.9769 - val_loss: 0.6170 - val_accuracy: 0.2435 - val_recall: 0.8638 - val_precision: 0.9670\n",
      "Epoch 18/20\n",
      "15157/15157 [==============================] - 200s 13ms/step - loss: 0.5893 - accuracy: 0.2588 - recall: 0.8470 - precision: 0.9772 - val_loss: 0.6165 - val_accuracy: 0.2440 - val_recall: 0.8590 - val_precision: 0.9677\n",
      "Epoch 19/20\n",
      "15157/15157 [==============================] - 199s 13ms/step - loss: 0.5891 - accuracy: 0.2588 - recall: 0.8458 - precision: 0.9773 - val_loss: 0.6168 - val_accuracy: 0.2436 - val_recall: 0.8589 - val_precision: 0.9675\n",
      "Epoch 20/20\n",
      "15157/15157 [==============================] - 182s 12ms/step - loss: 0.5889 - accuracy: 0.2590 - recall: 0.8450 - precision: 0.9774 - val_loss: 0.6175 - val_accuracy: 0.2432 - val_recall: 0.8608 - val_precision: 0.9671\n"
     ]
    }
   ],
   "source": [
    "history = model.fit(\n",
    "    x = x_train,\n",
    "    y = y_train,\n",
    "    batch_size = 64,\n",
    "    epochs = 20,\n",
    "    verbose = 1,\n",
    "    validation_data = (x_val, y_val)\n",
    ")"
   ]
  },
  {
   "cell_type": "code",
   "execution_count": 11,
   "metadata": {
    "colab": {
     "base_uri": "https://localhost:8080/",
     "height": 313
    },
    "id": "eR_auwfLrWlE",
    "outputId": "6b2fb687-af46-422f-cd60-055bd66eb6b2"
   },
   "outputs": [
    {
     "data": {
      "text/plain": [
       "<matplotlib.legend.Legend at 0x7f4b47961790>"
      ]
     },
     "execution_count": 11,
     "metadata": {},
     "output_type": "execute_result"
    },
    {
     "data": {
      "image/png": "[encoded data removed]",
      "text/plain": [
       "<Figure size 432x288 with 1 Axes>"
      ]
     },
     "metadata": {
      "needs_background": "light"
     },
     "output_type": "display_data"
    }
   ],
   "source": [
    "plt.plot(history.history['loss'], label='loss')\n",
    "plt.plot(history.history['val_loss'], label='val_loss')\n",
    "plt.title('model_loss')\n",
    "plt.ylabel('loss')\n",
    "plt.xlabel('epoch')\n",
    "plt.legend()"
   ]
  },
  {
   "cell_type": "code",
   "execution_count": 17,
   "metadata": {
    "colab": {
     "base_uri": "https://localhost:8080/",
     "height": 313
    },
    "id": "yLgt8_uXohZx",
    "outputId": "dc5349f0-eccc-43de-c451-a2241714ce13"
   },
   "outputs": [
    {
     "data": {
      "text/plain": [
       "<matplotlib.legend.Legend at 0x7f4b49258810>"
      ]
     },
     "execution_count": 17,
     "metadata": {},
     "output_type": "execute_result"
    },
    {
     "data": {
      "image/png": "[encoded data removed]",
      "text/plain": [
       "<Figure size 432x288 with 1 Axes>"
      ]
     },
     "metadata": {
      "needs_background": "light"
     },
     "output_type": "display_data"
    }
   ],
   "source": [
    "plt.plot(history.history['accuracy'], label='accuracy')\n",
    "plt.plot(history.history['val_accuracy'], label='val_accuracy')\n",
    "plt.title('model_accuracy')\n",
    "plt.ylabel('accuracy')\n",
    "plt.xlabel('epoch')\n",
    "plt.legend()"
   ]
  },
  {
   "cell_type": "code",
   "execution_count": 18,
   "metadata": {
    "colab": {
     "base_uri": "https://localhost:8080/",
     "height": 313
    },
    "id": "bpBn6H16ok-Q",
    "outputId": "e13f6214-900b-4248-da9f-8625a6c19a58"
   },
   "outputs": [
    {
     "data": {
      "text/plain": [
       "<matplotlib.legend.Legend at 0x7f4b48bee210>"
      ]
     },
     "execution_count": 18,
     "metadata": {},
     "output_type": "execute_result"
    },
    {
     "data": {
      "image/png": "[encoded data removed]",
      "text/plain": [
       "<Figure size 432x288 with 1 Axes>"
      ]
     },
     "metadata": {
      "needs_background": "light"
     },
     "output_type": "display_data"
    }
   ],
   "source": [
    "plt.plot(history.history['precision'], label='precision')\n",
    "plt.plot(history.history['val_precision'], label='val_precision')\n",
    "plt.title('model_precision')\n",
    "plt.ylabel('precision')\n",
    "plt.xlabel('epoch')\n",
    "plt.legend()"
   ]
  },
  {
   "cell_type": "code",
   "execution_count": 19,
   "metadata": {
    "colab": {
     "base_uri": "https://localhost:8080/",
     "height": 313
    },
    "id": "zxU45WOOopg4",
    "outputId": "9ae1ab1f-afac-4858-84f5-d0778ef3cfa2"
   },
   "outputs": [
    {
     "data": {
      "text/plain": [
       "<matplotlib.legend.Legend at 0x7f4b47467150>"
      ]
     },
     "execution_count": 19,
     "metadata": {},
     "output_type": "execute_result"
    },
    {
     "data": {
      "image/png": "[encoded data removed]",
      "text/plain": [
       "<Figure size 432x288 with 1 Axes>"
      ]
     },
     "metadata": {
      "needs_background": "light"
     },
     "output_type": "display_data"
    }
   ],
   "source": [
    "plt.plot(history.history['recall'], label='recall')\n",
    "plt.plot(history.history['val_recall'], label='val_recall')\n",
    "plt.title('model_recall')\n",
    "plt.ylabel('recall')\n",
    "plt.xlabel('epoch')\n",
    "plt.legend()"
   ]
  },
  {
   "cell_type": "markdown",
   "metadata": {
    "id": "WSXmzK_ddTvg"
   },
   "source": [
    "Show top 5 movie recommendations to a sample user"
   ]
  },
  {
   "cell_type": "code",
   "execution_count": 32,
   "metadata": {
    "id": "QJmGpj5KTxbC"
   },
   "outputs": [],
   "source": [
    "def recommend_movie(sample_user_id):\n",
    "    movies_watched_by_user = df[df.userId == sample_user_id]\n",
    "    movies_not_watched = movies[~movies['movieId'].isin(movies_watched_by_user.movieId.values)]['movieId']\n",
    "    movies_not_watched = list(set(movies_not_watched).intersection(set(movie2movie_encoded.keys())))\n",
    "    movies_not_watched = [[movie2movie_encoded.get(x)] for x in movies_not_watched]\n",
    "    user_encoder = user2user_encoded.get(sample_user_id)\n",
    "    user_movie_array = np.hstack(([[user_encoder]] * len(movies_not_watched), movies_not_watched))\n",
    "    ratings = model.predict(user_movie_array).flatten()\n",
    "    top_ratings_indices = ratings.argsort()[-5:][::-1]\n",
    "    recommended_movie_ids = [movie2movie_encoded.get(movies_not_watched[x][0]) for x in top_ratings_indices]\n",
    "    return movies[movies[\"movieId\"].isin(recommended_movie_ids)]"
   ]
  },
  {
   "cell_type": "code",
   "execution_count": 30,
   "metadata": {
    "colab": {
     "base_uri": "https://localhost:8080/"
    },
    "id": "NbZWvIPXZnvR",
    "outputId": "7850cdcd-7ba9-4b6d-f5ca-990ef1aaf619"
   },
   "outputs": [
    {
     "data": {
      "text/plain": [
       "3199"
      ]
     },
     "execution_count": 30,
     "metadata": {},
     "output_type": "execute_result"
    }
   ],
   "source": [
    "sample_user_id = df.userId.sample(1).iloc[0]\n",
    "sample_user_id"
   ]
  },
  {
   "cell_type": "code",
   "execution_count": 33,
   "metadata": {
    "colab": {
     "base_uri": "https://localhost:8080/",
     "height": 206
    },
    "id": "2nbuUbsZYyIJ",
    "outputId": "dc066ba4-b081-4581-981c-66f38b1412ba"
   },
   "outputs": [
    {
     "data": {
      "text/html": [
       "\n",
       "  <div id=\"df-6dd5eb90-bcb1-4c30-a7de-8e5c1dca1456\">\n",
       "    <div class=\"colab-df-container\">\n",
       "      <div>\n",
       "<style scoped>\n",
       "    .dataframe tbody tr th:only-of-type {\n",
       "        vertical-align: middle;\n",
       "    }\n",
       "\n",
       "    .dataframe tbody tr th {\n",
       "        vertical-align: top;\n",
       "    }\n",
       "\n",
       "    .dataframe thead th {\n",
       "        text-align: right;\n",
       "    }\n",
       "</style>\n",
       "<table border=\"1\" class=\"dataframe\">\n",
       "  <thead>\n",
       "    <tr style=\"text-align: right;\">\n",
       "      <th></th>\n",
       "      <th>movieId</th>\n",
       "      <th>title</th>\n",
       "      <th>genres</th>\n",
       "    </tr>\n",
       "  </thead>\n",
       "  <tbody>\n",
       "    <tr>\n",
       "      <th>913</th>\n",
       "      <td>925</td>\n",
       "      <td>Golden Earrings (1947)</td>\n",
       "      <td>Adventure|Romance</td>\n",
       "    </tr>\n",
       "    <tr>\n",
       "      <th>1814</th>\n",
       "      <td>1883</td>\n",
       "      <td>Bulworth (1998)</td>\n",
       "      <td>Comedy</td>\n",
       "    </tr>\n",
       "    <tr>\n",
       "      <th>1884</th>\n",
       "      <td>1953</td>\n",
       "      <td>French Connection, The (1971)</td>\n",
       "      <td>Action|Crime|Drama|Thriller</td>\n",
       "    </tr>\n",
       "    <tr>\n",
       "      <th>2622</th>\n",
       "      <td>2691</td>\n",
       "      <td>Legend of 1900, The (Leggenda del pianista sul...</td>\n",
       "      <td>Drama</td>\n",
       "    </tr>\n",
       "    <tr>\n",
       "      <th>3200</th>\n",
       "      <td>3269</td>\n",
       "      <td>Forever Young (1992)</td>\n",
       "      <td>Adventure|Romance|Sci-Fi</td>\n",
       "    </tr>\n",
       "  </tbody>\n",
       "</table>\n",
       "</div>\n",
       "      <button class=\"colab-df-convert\" onclick=\"convertToInteractive('df-6dd5eb90-bcb1-4c30-a7de-8e5c1dca1456')\"\n",
       "              title=\"Convert this dataframe to an interactive table.\"\n",
       "              style=\"display:none;\">\n",
       "        \n",
       "  <svg xmlns=\"http://www.w3.org/2000/svg\" height=\"24px\"viewBox=\"0 0 24 24\"\n",
       "       width=\"24px\">\n",
       "    <path d=\"M0 0h24v24H0V0z\" fill=\"none\"/>\n",
       "    <path d=\"M18.56 5.44l.94 2.06.94-2.06 2.06-.94-2.06-.94-.94-2.06-.94 2.06-2.06.94zm-11 1L8.5 8.5l.94-2.06 2.06-.94-2.06-.94L8.5 2.5l-.94 2.06-2.06.94zm10 10l.94 2.06.94-2.06 2.06-.94-2.06-.94-.94-2.06-.94 2.06-2.06.94z\"/><path d=\"M17.41 7.96l-1.37-1.37c-.4-.4-.92-.59-1.43-.59-.52 0-1.04.2-1.43.59L10.3 9.45l-7.72 7.72c-.78.78-.78 2.05 0 2.83L4 21.41c.39.39.9.59 1.41.59.51 0 1.02-.2 1.41-.59l7.78-7.78 2.81-2.81c.8-.78.8-2.07 0-2.86zM5.41 20L4 18.59l7.72-7.72 1.47 1.35L5.41 20z\"/>\n",
       "  </svg>\n",
       "      </button>\n",
       "      \n",
       "  <style>\n",
       "    .colab-df-container {\n",
       "      display:flex;\n",
       "      flex-wrap:wrap;\n",
       "      gap: 12px;\n",
       "    }\n",
       "\n",
       "    .colab-df-convert {\n",
       "      background-color: #E8F0FE;\n",
       "      border: none;\n",
       "      border-radius: 50%;\n",
       "      cursor: pointer;\n",
       "      display: none;\n",
       "      fill: #1967D2;\n",
       "      height: 32px;\n",
       "      padding: 0 0 0 0;\n",
       "      width: 32px;\n",
       "    }\n",
       "\n",
       "    .colab-df-convert:hover {\n",
       "      background-color: #E2EBFA;\n",
       "      box-shadow: 0px 1px 2px rgba(60, 64, 67, 0.3), 0px 1px 3px 1px rgba(60, 64, 67, 0.15);\n",
       "      fill: #174EA6;\n",
       "    }\n",
       "\n",
       "    [theme=dark] .colab-df-convert {\n",
       "      background-color: #3B4455;\n",
       "      fill: #D2E3FC;\n",
       "    }\n",
       "\n",
       "    [theme=dark] .colab-df-convert:hover {\n",
       "      background-color: #434B5C;\n",
       "      box-shadow: 0px 1px 3px 1px rgba(0, 0, 0, 0.15);\n",
       "      filter: drop-shadow(0px 1px 2px rgba(0, 0, 0, 0.3));\n",
       "      fill: #FFFFFF;\n",
       "    }\n",
       "  </style>\n",
       "\n",
       "      <script>\n",
       "        const buttonEl =\n",
       "          document.querySelector('#df-6dd5eb90-bcb1-4c30-a7de-8e5c1dca1456 button.colab-df-convert');\n",
       "        buttonEl.style.display =\n",
       "          google.colab.kernel.accessAllowed ? 'block' : 'none';\n",
       "\n",
       "        async function convertToInteractive(key) {\n",
       "          const element = document.querySelector('#df-6dd5eb90-bcb1-4c30-a7de-8e5c1dca1456');\n",
       "          const dataTable =\n",
       "            await google.colab.kernel.invokeFunction('convertToInteractive',\n",
       "                                                     [key], {});\n",
       "          if (!dataTable) return;\n",
       "\n",
       "          const docLinkHtml = 'Like what you see? Visit the ' +\n",
       "            '<a target=\"_blank\" href=https://colab.research.google.com/notebooks/data_table.ipynb>data table notebook</a>'\n",
       "            + ' to learn more about interactive tables.';\n",
       "          element.innerHTML = '';\n",
       "          dataTable['output_type'] = 'display_data';\n",
       "          await google.colab.output.renderOutput(dataTable, element);\n",
       "          const docLink = document.createElement('div');\n",
       "          docLink.innerHTML = docLinkHtml;\n",
       "          element.appendChild(docLink);\n",
       "        }\n",
       "      </script>\n",
       "    </div>\n",
       "  </div>\n",
       "  "
      ],
      "text/plain": [
       "      movieId                                              title  \\\n",
       "913       925                             Golden Earrings (1947)   \n",
       "1814     1883                                    Bulworth (1998)   \n",
       "1884     1953                      French Connection, The (1971)   \n",
       "2622     2691  Legend of 1900, The (Leggenda del pianista sul...   \n",
       "3200     3269                               Forever Young (1992)   \n",
       "\n",
       "                           genres  \n",
       "913             Adventure|Romance  \n",
       "1814                       Comedy  \n",
       "1884  Action|Crime|Drama|Thriller  \n",
       "2622                        Drama  \n",
       "3200     Adventure|Romance|Sci-Fi  "
      ]
     },
     "execution_count": 33,
     "metadata": {},
     "output_type": "execute_result"
    }
   ],
   "source": [
    "recommend_movie(sample_user_id)"
   ]
  },
  {
   "cell_type": "code",
   "execution_count": 34,
   "metadata": {
    "colab": {
     "base_uri": "https://localhost:8080/"
    },
    "id": "gdsBbHFIaBr0",
    "outputId": "8502ef80-f641-458d-a773-f97bce6c045e"
   },
   "outputs": [
    {
     "name": "stdout",
     "output_type": "stream",
     "text": [
      "Showing recommendations for user: 3199\n",
      "-----------------------------------\n",
      "The last 5 movies rated by the user\n",
      "-----------------------------------\n",
      "Ransom (1996) : Drama|Thriller\n",
      "Back to the Future (1985) : Comedy|Sci-Fi\n",
      "Beavis and Butt-head Do America (1996) : Animation|Comedy\n",
      "Liar Liar (1997) : Comedy\n",
      "Mad Max (1979) : Action|Sci-Fi\n",
      "-----------------------------------\n",
      "The top 5 movies recommendations\n",
      "-----------------------------------\n",
      "Golden Earrings (1947) : Adventure|Romance\n",
      "Bulworth (1998) : Comedy\n",
      "French Connection, The (1971) : Action|Crime|Drama|Thriller\n",
      "Legend of 1900, The (Leggenda del pianista sull'oceano) (1998) : Drama\n",
      "Forever Young (1992) : Adventure|Romance|Sci-Fi\n"
     ]
    }
   ],
   "source": [
    "print(\"Showing recommendations for user: {}\".format(sample_user_id))\n",
    "print(\"-------\" * 5)\n",
    "print(\"The last 5 movies rated by the user\")\n",
    "print(\"-------\" * 5)\n",
    "test = dtest[dtest.userId == sample_user_id].movieId.values\n",
    "movies_rows = movies[movies[\"movieId\"].isin(test)]\n",
    "for row in movies_rows.itertuples():\n",
    "    print(row.title, \":\", row.genres)\n",
    "\n",
    "print(\"-------\" * 5)\n",
    "print(\"The top 5 movies recommendations\")\n",
    "print(\"-------\" * 5)\n",
    "recommended_movies = recommend_movie(sample_user_id)\n",
    "for row in recommended_movies.itertuples():\n",
    "    print(row.title, \":\", row.genres)"
   ]
  },
  {
   "cell_type": "code",
   "execution_count": 16,
   "metadata": {
    "id": "M25dSi6wafio"
   },
   "outputs": [],
   "source": [
    "#model.save_weights(\"my_model.h5\")"
   ]
  },
  {
   "cell_type": "code",
   "execution_count": 26,
   "metadata": {
    "id": "T3Uf2kOWJooQ"
   },
   "outputs": [],
   "source": [
    "#pip freeze > requirements.txt"
   ]
  },
  {
   "cell_type": "code",
   "execution_count": null,
   "metadata": {},
   "outputs": [],
   "source": []
  }
 ],
 "metadata": {
  "accelerator": "TPU",
  "colab": {
   "collapsed_sections": [],
   "name": "recommendation.ipynb",
   "provenance": []
  },
  "kernelspec": {
   "display_name": "Python 3",
   "language": "python",
   "name": "python3"
  },
  "language_info": {
   "codemirror_mode": {
    "name": "ipython",
    "version": 3
   },
   "file_extension": ".py",
   "mimetype": "text/x-python",
   "name": "python",
   "nbconvert_exporter": "python",
   "pygments_lexer": "ipython3",
   "version": "3.7.4"
  }
 },
 "nbformat": 4,
 "nbformat_minor": 1
}
